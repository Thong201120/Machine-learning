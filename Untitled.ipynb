{
 "cells": [
  {
   "cell_type": "code",
   "execution_count": 1,
   "metadata": {},
   "outputs": [],
   "source": [
    "import numpy as np\n",
    "import cv2,os,glob\n",
    "import xml.etree.ElementTree\n",
    "import matplotlib.pyplot as plt\n",
    "%matplotlib inline\n",
    "import imutils"
   ]
  },
  {
   "cell_type": "code",
   "execution_count": 2,
   "metadata": {},
   "outputs": [],
   "source": [
    "with open(\"my_data/train_test/training.txt\",\"r\",encoding=\"utf-8\") as file :\n",
    "    data = file.readlines()"
   ]
  },
  {
   "cell_type": "code",
   "execution_count": 3,
   "metadata": {},
   "outputs": [
    {
     "name": "stdout",
     "output_type": "stream",
     "text": [
      "angle :  -3.012787342071533\n",
      "angle :  -90.0\n",
      "angle :  -77.00537872314453\n",
      "angle :  -0.0\n",
      "angle :  -63.43495178222656\n",
      "angle :  -90.0\n",
      "angle :  -6.9529571533203125\n",
      "angle :  -6.458815574645996\n",
      "angle :  -0.0\n",
      "angle :  -10.713123321533203\n",
      "angle :  -15.461216926574707\n",
      "angle :  -7.224316120147705\n",
      "angle :  -90.0\n",
      "angle :  -87.83892822265625\n",
      "angle :  -14.03624439239502\n",
      "angle :  -10.885527610778809\n",
      "angle :  -4.205356597900391\n",
      "angle :  -2.2025980949401855\n",
      "angle :  -0.0\n",
      "angle :  -84.80557250976562\n",
      "angle :  -82.69424438476562\n",
      "angle :  -81.95709991455078\n",
      "angle :  0.0\n",
      "angle :  -13.495734214782715\n",
      "angle :  -3.5763344764709473\n",
      "angle :  -84.6607666015625\n",
      "angle :  -0.0\n",
      "angle :  -64.69862365722656\n",
      "angle :  -90.0\n",
      "angle :  -0.0\n",
      "angle :  -0.0\n",
      "angle :  -90.0\n",
      "angle :  -17.52556800842285\n",
      "angle :  -23.198591232299805\n",
      "angle :  -1.023030161857605\n",
      "angle :  -0.0\n",
      "angle :  -0.0\n",
      "angle :  -85.8150863647461\n",
      "angle :  -0.0\n",
      "angle :  -0.0\n",
      "angle :  -0.0\n",
      "angle :  -0.0\n",
      "angle :  -86.49646759033203\n",
      "error when reduce noise\n"
     ]
    }
   ],
   "source": [
    "for i in data[20:50]:\n",
    "    path = i.strip()\n",
    "    e = xml.etree.ElementTree.parse(\"my_data/anotation/\"+path+\".xml\").getroot()\n",
    "    name = e.find('object').text\n",
    "    for obj in e.iter('object') :\n",
    "        name = obj.find('name').text\n",
    "        bbox = obj.find('bndbox')\n",
    "        pts = ['xmin', 'ymin', 'xmax', 'ymax']\n",
    "        bndbox = []\n",
    "        for i, pt in enumerate(pts):\n",
    "            cur_pt = int(float(bbox.find(pt).text) - 1)\n",
    "            # scale height or width\n",
    "            #cur_pt = cur_pt / width if i % 2 == 0 else cur_pt / height\n",
    "            bndbox.append(cur_pt)\n",
    "        try : \n",
    "\n",
    "            impath =  \"my_data/images/\"+path +\".jpg\"\n",
    "            image = cv2.imread(impath)\n",
    "            #plt.imshow(cv2.cvtColor(image,cv2.COLOR_BGR2RGB))\n",
    "            box_image = image[bndbox[1]:bndbox[3],bndbox[0] :bndbox[2]]\n",
    "            #\n",
    "            processed_img = cv2.cvtColor(box_image, cv2.COLOR_BGR2GRAY)\n",
    "            ret2,th2 = cv2.threshold(processed_img,0,255,cv2.THRESH_BINARY_INV+cv2.THRESH_OTSU)\n",
    "            # gausian\n",
    "            th2 = cv2.GaussianBlur(th2,(3,3),0)\n",
    "            # dilate\n",
    "            #image = cv2.(th2,kernel = np.ones((3,3)),iterations=3)\n",
    "            kernel = cv2.getStructuringElement(cv2.MORPH_RECT,(3,3))\n",
    "            #image= cv2.morphologyEx(th2, cv2.MORPH_OPEN, np.ones((3,3)),iterations=3)\n",
    "            image= cv2.dilate(th2, np.ones((3,3)),iterations=3)\n",
    "            # find contour\n",
    "            image_original,contours,hierarchy = cv2.findContours(image.copy(),\n",
    "                                                                 cv2.RETR_TREE,cv2.CHAIN_APPROX_SIMPLE)\n",
    "            # take max contours\n",
    "            c = max(contours, key = cv2.contourArea)\n",
    "            # find rotate bb\n",
    "            rect = cv2.minAreaRect(c)\n",
    "            box = cv2.boxPoints(rect)\n",
    "            box = np.int0(box)\n",
    "            rota_bb = cv2.drawContours(box_image.copy(),[box],0,(0,0,255),2)\n",
    "            #rotated = imutils.rotate(box_image, 180 rect[2])\n",
    "            print(\"angle : \",rect[2])\n",
    "            cv2.namedWindow('img1',cv2.WINDOW_NORMAL)\n",
    "            cv2.namedWindow('img3',cv2.WINDOW_NORMAL)\n",
    "            cv2.imshow(\"img2\",th2)\n",
    "            cv2.imshow(\"img\",image)\n",
    "            cv2.imshow(\"img1\",rota_bb)\n",
    "            #cv2.imshow(\"img3\",rotated)\n",
    "            cv2.waitKey()\n",
    "            bndbox.clear()\n",
    "        except :\n",
    "            print(\"error when reduce noise\")\n",
    "cv2.destroyAllWindows() "
   ]
  },
  {
   "cell_type": "code",
   "execution_count": 372,
   "metadata": {},
   "outputs": [
    {
     "name": "stdout",
     "output_type": "stream",
     "text": [
      "name HIGRO\n",
      "bb [87, 23, 220, 52]\n"
     ]
    }
   ],
   "source": [
    "print(\"name\",name)\n",
    "print(\"bb\",bndbox)"
   ]
  },
  {
   "cell_type": "code",
   "execution_count": 373,
   "metadata": {},
   "outputs": [],
   "source": [
    "# impath =  \"my_data/images/\"+path +\".jpg\"\n",
    "# image = cv2.imread(impath)\n",
    "# plt.imshow(cv2.cvtColor(image,cv2.COLOR_BGR2RGB))"
   ]
  },
  {
   "cell_type": "code",
   "execution_count": 374,
   "metadata": {},
   "outputs": [],
   "source": [
    "# box_image = image[bndbox[1]:bndbox[3],bndbox[0] :bndbox[2]]\n",
    "# plt.figure(figsize=(3,3))\n",
    "# plt.imshow(box_image)"
   ]
  },
  {
   "cell_type": "code",
   "execution_count": 375,
   "metadata": {},
   "outputs": [
    {
     "name": "stdout",
     "output_type": "stream",
     "text": [
      "angle :  -90.0\n"
     ]
    }
   ],
   "source": [
    "impath =  \"my_data/images/\"+path +\".jpg\"\n",
    "image = cv2.imread(impath)\n",
    "#plt.imshow(cv2.cvtColor(image,cv2.COLOR_BGR2RGB))\n",
    "box_image = image[bndbox[1]:bndbox[3],bndbox[0] :bndbox[2]]\n",
    "#\n",
    "processed_img = cv2.cvtColor(box_image, cv2.COLOR_BGR2GRAY)\n",
    "ret2,th2 = cv2.threshold(processed_img,0,255,cv2.THRESH_BINARY_INV+cv2.THRESH_OTSU)\n",
    "# gausian\n",
    "th2 = cv2.GaussianBlur(th2,(3,3),0)\n",
    "# dilate\n",
    "#image = cv2.(th2,kernel = np.ones((3,3)),iterations=3)\n",
    "kernel = cv2.getStructuringElement(cv2.MORPH_RECT,(3,3))\n",
    "#image= cv2.morphologyEx(th2, cv2.MORPH_OPEN, np.ones((3,3)),iterations=3)\n",
    "image= cv2.dilate(th2, np.ones((3,3)),iterations=3)\n",
    "# find contour\n",
    "image_original,contours,hierarchy = cv2.findContours(image.copy(),\n",
    "                                                     cv2.RETR_TREE,cv2.CHAIN_APPROX_SIMPLE)\n",
    "# take max contours\n",
    "c = max(contours, key = cv2.contourArea)\n",
    "# find rotate bb\n",
    "rect = cv2.minAreaRect(c)\n",
    "box = cv2.boxPoints(rect)\n",
    "box = np.int0(box)\n",
    "_ = cv2.drawContours(box_image,[box],0,(0,0,255),2)\n",
    "print(\"angle : \",rect[2])"
   ]
  },
  {
   "cell_type": "code",
   "execution_count": 376,
   "metadata": {},
   "outputs": [],
   "source": [
    "cv2.imshow(\"img2\",th2)\n",
    "cv2.imshow(\"img\",image)\n",
    "cv2.imshow(\"img1\",box_image)\n",
    "cv2.waitKey()\n",
    "cv2.destroyAllWindows()"
   ]
  },
  {
   "cell_type": "code",
   "execution_count": 361,
   "metadata": {},
   "outputs": [
    {
     "data": {
      "text/plain": [
       "4"
      ]
     },
     "execution_count": 361,
     "metadata": {},
     "output_type": "execute_result"
    }
   ],
   "source": [
    "len(contours)"
   ]
  },
  {
   "cell_type": "code",
   "execution_count": 365,
   "metadata": {},
   "outputs": [],
   "source": [
    "for cnt in contours :\n",
    "    x,y,w,h = cv2.boundingRect(cnt)\n",
    "    _ = cv2.rectangle(box_image,(x,y),(x+w,y+h),(0,255,0),2)"
   ]
  },
  {
   "cell_type": "code",
   "execution_count": 366,
   "metadata": {},
   "outputs": [],
   "source": [
    "cv2.imshow(\"img1\",box_image)\n",
    "cv2.imshow(\"img2\",th2)\n",
    "cv2.imshow(\"img\",image)\n",
    "cv2.waitKey()\n",
    "cv2.destroyAllWindows()"
   ]
  },
  {
   "cell_type": "code",
   "execution_count": null,
   "metadata": {},
   "outputs": [],
   "source": []
  }
 ],
 "metadata": {
  "kernelspec": {
   "display_name": "Python 3",
   "language": "python",
   "name": "python3"
  },
  "language_info": {
   "codemirror_mode": {
    "name": "ipython",
    "version": 3
   },
   "file_extension": ".py",
   "mimetype": "text/x-python",
   "name": "python",
   "nbconvert_exporter": "python",
   "pygments_lexer": "ipython3",
   "version": "3.5.5"
  },
  "widgets": {
   "state": {},
   "version": "1.1.2"
  }
 },
 "nbformat": 4,
 "nbformat_minor": 2
}
