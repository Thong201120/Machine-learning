{
 "cells": [
  {
   "cell_type": "code",
   "execution_count": 2,
   "metadata": {
    "collapsed": true
   },
   "outputs": [],
   "source": [
    "import cv2\n",
    "import numpy as np\n",
    "import dlib\n",
    "import playsound\n",
    "from threading import Thread"
   ]
  },
  {
   "cell_type": "code",
   "execution_count": 4,
   "metadata": {
    "collapsed": true
   },
   "outputs": [],
   "source": [
    "path = \"shape_predictor_68_face_landmarks.dat\"\n",
    "detector = dlib.get_frontal_face_detector()\n",
    "predict_landmark = dlib.shape_predictor(path)"
   ]
  },
  {
   "cell_type": "code",
   "execution_count": 5,
   "metadata": {
    "collapsed": true
   },
   "outputs": [],
   "source": [
    "# function transform landmark to array\n",
    "def landmark_transform(landmarks):\n",
    "    land_mark_array = []\n",
    "    for i in landmarks:\n",
    "        land_mark_array.append([int(i.x),int(i.y)])\n",
    "    return np.array(land_mark_array)"
   ]
  },
  {
   "cell_type": "code",
   "execution_count": 7,
   "metadata": {
    "collapsed": true
   },
   "outputs": [],
   "source": [
    "# tinh toán distance\n",
    "def calculate_distance(eye):\n",
    "    assert len(eye)== 6\n",
    "    p0,p1,p2,p3,p4,p5 = eye\n",
    "    distance_p1_p5 = np.sqrt((p1[0]-p5[0])**2 + (p1[1]-p5[1])**2)\n",
    "    distance_p2_p4 = np.sqrt((p2[0]-p4[0])**2 + (p2[1]-p4[1])**2)\n",
    "    distance_p0_p3 = np.sqrt((p0[0]-p3[0])**2 + (p0[1]-p3[1])**2)\n",
    "    EAR = (distance_p1_p5+distance_p2_p4)/(2*distance_p0_p3)\n",
    "    return EAR"
   ]
  },
  {
   "cell_type": "code",
   "execution_count": 8,
   "metadata": {
    "collapsed": true
   },
   "outputs": [],
   "source": [
    "# function draw contours of eyes\n",
    "def draw_contours(image,cnt):\n",
    "    hull = cv2.convexHull(cnt)\n",
    "    cv2.drawContours(image,[hull],-1,(0,255,0),2)"
   ]
  },
  {
   "cell_type": "code",
   "execution_count": 9,
   "metadata": {
    "collapsed": true
   },
   "outputs": [],
   "source": [
    "def sound_alarm():\n",
    "    playsound.playsound(\"sound.mp3\")"
   ]
  },
  {
   "cell_type": "code",
   "execution_count": 10,
   "metadata": {},
   "outputs": [],
   "source": [
    "cap = cv2.VideoCapture(0)\n",
    "total=0\n",
    "alarm=False\n",
    "while cap.isOpened() == True :\n",
    "    ret,frame = cap.read()\n",
    "    frame_gray = cv2.cvtColor(frame,cv2.COLOR_BGR2GRAY)\n",
    "    rects = detector(frame_gray,1)\n",
    "    if len(rects) > 0 :\n",
    "        for i in rects:\n",
    "            cv2.rectangle(frame,(i.left(),i.top()),(i.right(),i.bottom()),(0,255,0),2)\n",
    "            land_mark = predict_landmark(frame_gray,i)\n",
    "            left_eye = landmark_transform(land_mark.parts()[36:42])\n",
    "            right_eye = landmark_transform(land_mark.parts()[42:48])\n",
    "            draw_contours(frame,left_eye)\n",
    "            draw_contours(frame,right_eye)\n",
    "            EAR_left,EAR_right = calculate_distance(left_eye),calculate_distance(right_eye)\n",
    "            ear = np.round((EAR_left+EAR_right)/2,2)\n",
    "            #print(ear)\n",
    "            if ear > 0.25 :\n",
    "                total=0\n",
    "                alarm=False\n",
    "                cv2.putText(frame, \"Eyes Open \", (10, 30),cv2.FONT_HERSHEY_SIMPLEX, 1.2, (0,255, 0 ), 2)\n",
    "            else:\n",
    "                total+=1\n",
    "                print(total)\n",
    "                if total>20:\n",
    "                    if not alarm:\n",
    "                        sound_alarm()\n",
    "                        cv2.putText(frame, \"drowsiness detect\" ,(10, 30),cv2.FONT_HERSHEY_SIMPLEX, 1.2, (0, 255, 0), 2)\n",
    "            cv2.putText(frame, \"EAR :\"+str(ear) ,(200, 100),cv2.FONT_HERSHEY_SIMPLEX, 1.7, (0, 255, 0), 2)           \n",
    "    cv2.imshow(\"image\", frame)\n",
    "    if cv2.waitKey(1) & 0xFF == ord('q'):\n",
    "        cv2.destroyAllWindows()\n",
    "        cap.release()\n",
    "        break                        "
   ]
  },
  {
   "cell_type": "code",
   "execution_count": null,
   "metadata": {
    "collapsed": true
   },
   "outputs": [],
   "source": []
  },
  {
   "cell_type": "code",
   "execution_count": null,
   "metadata": {},
   "outputs": [],
   "source": []
  },
  {
   "cell_type": "code",
   "execution_count": null,
   "metadata": {
    "collapsed": true
   },
   "outputs": [],
   "source": []
  }
 ],
 "metadata": {
  "kernelspec": {
   "display_name": "Python 3",
   "language": "python",
   "name": "python3"
  },
  "language_info": {
   "codemirror_mode": {
    "name": "ipython",
    "version": 3
   },
   "file_extension": ".py",
   "mimetype": "text/x-python",
   "name": "python",
   "nbconvert_exporter": "python",
   "pygments_lexer": "ipython3",
   "version": "3.6.2"
  }
 },
 "nbformat": 4,
 "nbformat_minor": 2
}
