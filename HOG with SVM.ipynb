{
 "cells": [
  {
   "cell_type": "code",
   "execution_count": 115,
   "metadata": {
    "collapsed": true
   },
   "outputs": [],
   "source": [
    "import cv2\n",
    "import numpy as np\n",
    "import glob\n",
    "import os\n",
    "from skimage import io\n",
    "from skimage.feature import hog\n",
    "import matplotlib.pyplot as plt\n",
    "%matplotlib inline"
   ]
  },
  {
   "cell_type": "code",
   "execution_count": 116,
   "metadata": {
    "collapsed": true
   },
   "outputs": [],
   "source": [
    "# get path image from computer\n",
    "path_train = glob.glob(\"CarData/CarData/TrainImages/*.pgm\")\n",
    "path_test = glob.glob(\"CarData/CarData/TestImages/*.pgm\")"
   ]
  },
  {
   "cell_type": "code",
   "execution_count": 117,
   "metadata": {},
   "outputs": [
    {
     "data": {
      "text/plain": [
       "<matplotlib.image.AxesImage at 0x1a438ef0>"
      ]
     },
     "execution_count": 117,
     "metadata": {},
     "output_type": "execute_result"
    },
    {
     "data": {
      "image/png": "[encoded data removed]",
      "text/plain": [
       "<matplotlib.figure.Figure at 0x1a4304a8>"
      ]
     },
     "metadata": {},
     "output_type": "display_data"
    }
   ],
   "source": [
    "# plot some image\n",
    "im = io.imread(path_train[900])\n",
    "plt.imshow(im)"
   ]
  },
  {
   "cell_type": "code",
   "execution_count": 118,
   "metadata": {},
   "outputs": [
    {
     "data": {
      "text/plain": [
       "(40, 100)"
      ]
     },
     "execution_count": 118,
     "metadata": {},
     "output_type": "execute_result"
    }
   ],
   "source": [
    "im.shape"
   ]
  },
  {
   "cell_type": "code",
   "execution_count": 119,
   "metadata": {
    "collapsed": true
   },
   "outputs": [],
   "source": [
    "# create feature hog\n",
    "def hog_feature(image):\n",
    "    feat = hog(image,orientations=9,pixels_per_cell=(8,8),cells_per_block=(2,2))\n",
    "    return feat"
   ]
  },
  {
   "cell_type": "code",
   "execution_count": 120,
   "metadata": {},
   "outputs": [
    {
     "name": "stderr",
     "output_type": "stream",
     "text": [
      "C:\\Users\\Thor\\Anaconda3\\lib\\site-packages\\skimage\\feature\\_hog.py:119: skimage_deprecation: Default value of `block_norm`==`L1` is deprecated and will be changed to `L2-Hys` in v0.15\n",
      "  'be changed to `L2-Hys` in v0.15', skimage_deprecation)\n"
     ]
    }
   ],
   "source": [
    "X_train = []\n",
    "y_train = []\n",
    "for image_path in path_train :\n",
    "    im = io.imread(image_path)\n",
    "    feature = hog_feature(im)\n",
    "    X_train.append(feature)\n",
    "    name_image = os.path.split(image_path)[1]\n",
    "    if name_image.startswith(\"neg\") == 1 :\n",
    "        y_train.append(0)\n",
    "    else :\n",
    "        y_train.append(1)"
   ]
  },
  {
   "cell_type": "code",
   "execution_count": 121,
   "metadata": {},
   "outputs": [
    {
     "name": "stderr",
     "output_type": "stream",
     "text": [
      "C:\\Users\\Thor\\Anaconda3\\lib\\site-packages\\skimage\\feature\\_hog.py:119: skimage_deprecation: Default value of `block_norm`==`L1` is deprecated and will be changed to `L2-Hys` in v0.15\n",
      "  'be changed to `L2-Hys` in v0.15', skimage_deprecation)\n"
     ]
    }
   ],
   "source": [
    "X_test = []\n",
    "y_test = []\n",
    "for image_path in path_test :\n",
    "    im = io.imread(image_path)\n",
    "    feature = hog_feature(im)\n",
    "    X_test.append(feature)\n",
    "    name_image = os.path.split(image_path)[1]\n",
    "    if name_image.startswith(\"neg\") == 1 :\n",
    "        y_test.append(0)\n",
    "    else :\n",
    "        y_test.append(1)"
   ]
  },
  {
   "cell_type": "code",
   "execution_count": 122,
   "metadata": {},
   "outputs": [],
   "source": [
    "# Train model with SVM\n",
    "from sklearn.svm import LinearSVC\n",
    "from sklearn.metrics import accuracy_score\n",
    "from sklearn.model_selection import train_test_split"
   ]
  },
  {
   "cell_type": "code",
   "execution_count": 123,
   "metadata": {},
   "outputs": [
    {
     "name": "stdout",
     "output_type": "stream",
     "text": [
      "(1050, 1584)\n"
     ]
    }
   ],
   "source": [
    "X_train = np.array(X_train)\n",
    "y_train = np.array(y_train)\n",
    "\n",
    "print(X_train.shape)"
   ]
  },
  {
   "cell_type": "code",
   "execution_count": 124,
   "metadata": {},
   "outputs": [
    {
     "data": {
      "text/plain": [
       "LinearSVC(C=1.0, class_weight=None, dual=True, fit_intercept=True,\n",
       "     intercept_scaling=1, loss='squared_hinge', max_iter=1000,\n",
       "     multi_class='ovr', penalty='l2', random_state=None, tol=0.0001,\n",
       "     verbose=0)"
      ]
     },
     "execution_count": 124,
     "metadata": {},
     "output_type": "execute_result"
    }
   ],
   "source": [
    "model = LinearSVC()\n",
    "model.fit(X_train,y_train)\n"
   ]
  },
  {
   "cell_type": "code",
   "execution_count": 130,
   "metadata": {},
   "outputs": [],
   "source": [
    "y_predict = model.predict(X_train[:1])"
   ]
  },
  {
   "cell_type": "code",
   "execution_count": 131,
   "metadata": {},
   "outputs": [
    {
     "data": {
      "text/plain": [
       "array([0])"
      ]
     },
     "execution_count": 131,
     "metadata": {},
     "output_type": "execute_result"
    }
   ],
   "source": [
    "y_predict"
   ]
  },
  {
   "cell_type": "code",
   "execution_count": 86,
   "metadata": {},
   "outputs": [
    {
     "name": "stdout",
     "output_type": "stream",
     "text": [
      "1.0\n"
     ]
    }
   ],
   "source": [
    "print(accuracy_score(y_train,y_predict))"
   ]
  },
  {
   "cell_type": "code",
   "execution_count": 87,
   "metadata": {
    "collapsed": true
   },
   "outputs": [],
   "source": [
    "def sliding_window(image, window_size, step_size):\n",
    "    for y in range(0, image.shape[0]-window_size[0], step_size[1]):\n",
    "        for x in range(0, image.shape[1]-window_size[1], step_size[0]):\n",
    "            roi = image[y:y + window_size[1], x:x + window_size[0]]\n",
    "            yield (x, y,roi )"
   ]
  },
  {
   "cell_type": "code",
   "execution_count": 160,
   "metadata": {},
   "outputs": [
    {
     "data": {
      "text/plain": [
       "(146, 229, 3)"
      ]
     },
     "execution_count": 160,
     "metadata": {},
     "output_type": "execute_result"
    }
   ],
   "source": [
    "image = cv2.imread(\"test.png\")\n",
    "image.shape"
   ]
  },
  {
   "cell_type": "code",
   "execution_count": 161,
   "metadata": {},
   "outputs": [
    {
     "name": "stdout",
     "output_type": "stream",
     "text": [
      "yes\n",
      "[0]\n",
      "yes\n",
      "[0]\n",
      "yes\n",
      "[0]\n",
      "yes\n",
      "[0]\n",
      "yes\n",
      "[0]\n",
      "yes\n",
      "[0]\n",
      "yes\n",
      "[0]\n",
      "yes\n",
      "[0]\n",
      "yes\n",
      "[0]\n",
      "yes\n",
      "[0]\n",
      "yes\n",
      "[0]\n",
      "yes\n",
      "[0]\n",
      "yes\n",
      "[0]\n",
      "yes\n",
      "[0]\n",
      "yes\n",
      "[0]\n",
      "yes\n",
      "[0]\n",
      "yes\n",
      "[0]\n",
      "yes\n",
      "[0]\n",
      "yes\n",
      "[0]\n",
      "yes\n",
      "[0]\n",
      "yes\n",
      "[0]\n",
      "yes\n",
      "[0]\n",
      "yes\n",
      "[0]\n",
      "yes\n",
      "[0]\n",
      "yes\n",
      "[0]\n",
      "yes\n",
      "[0]\n",
      "yes\n",
      "[0]\n",
      "yes\n",
      "[0]\n",
      "yes\n",
      "[0]\n",
      "yes\n",
      "[0]\n",
      "yes\n",
      "[0]\n",
      "yes\n",
      "[0]\n",
      "yes\n",
      "[0]\n",
      "yes\n",
      "[0]\n",
      "yes\n",
      "[0]\n",
      "yes\n",
      "[0]\n",
      "yes\n",
      "[0]\n",
      "yes\n",
      "[0]\n"
     ]
    },
    {
     "name": "stderr",
     "output_type": "stream",
     "text": [
      "C:\\Users\\Thor\\Anaconda3\\lib\\site-packages\\skimage\\feature\\_hog.py:119: skimage_deprecation: Default value of `block_norm`==`L1` is deprecated and will be changed to `L2-Hys` in v0.15\n",
      "  'be changed to `L2-Hys` in v0.15', skimage_deprecation)\n"
     ]
    },
    {
     "name": "stdout",
     "output_type": "stream",
     "text": [
      "yes\n",
      "[0]\n",
      "yes\n",
      "[0]\n",
      "yes\n",
      "[0]\n",
      "yes\n",
      "[0]\n",
      "yes\n",
      "[0]\n",
      "yes\n",
      "[0]\n",
      "yes\n",
      "[0]\n",
      "yes\n",
      "[0]\n",
      "yes\n",
      "[0]\n",
      "yes\n",
      "[0]\n",
      "yes\n",
      "[0]\n",
      "yes\n",
      "[0]\n",
      "yes\n",
      "[0]\n",
      "yes\n",
      "[0]\n",
      "yes\n",
      "[0]\n",
      "yes\n",
      "[0]\n",
      "yes\n",
      "[0]\n",
      "yes\n",
      "[0]\n",
      "yes\n",
      "[0]\n",
      "yes\n",
      "[0]\n",
      "yes\n",
      "[0]\n",
      "yes\n",
      "[0]\n",
      "yes\n",
      "[0]\n",
      "yes\n",
      "[0]\n",
      "yes\n",
      "[0]\n",
      "yes\n",
      "[0]\n",
      "yes\n",
      "[0]\n"
     ]
    }
   ],
   "source": [
    "min_wdw_sz = (100, 40)\n",
    "step_size = (10, 10)\n",
    "im_list = []\n",
    "for (x,y,roi) in sliding_window(image,min_wdw_sz,step_size):\n",
    "    roi = cv2.cvtColor(roi,cv2.COLOR_BGR2GRAY)\n",
    "    if roi.shape == (40,100):\n",
    "        print(\"yes\")\n",
    "        feat = hog_feature(roi)\n",
    "        y_pre = model.predict(feat.reshape((1, 1584)))\n",
    "        print(y_pre)\n",
    "        if y_pre == 1 :\n",
    "            im_list.append((x,y,roi))"
   ]
  },
  {
   "cell_type": "code",
   "execution_count": null,
   "metadata": {},
   "outputs": [],
   "source": []
  },
  {
   "cell_type": "code",
   "execution_count": null,
   "metadata": {},
   "outputs": [],
   "source": []
  },
  {
   "cell_type": "code",
   "execution_count": null,
   "metadata": {},
   "outputs": [],
   "source": []
  },
  {
   "cell_type": "code",
   "execution_count": null,
   "metadata": {},
   "outputs": [],
   "source": []
  },
  {
   "cell_type": "code",
   "execution_count": null,
   "metadata": {},
   "outputs": [],
   "source": []
  },
  {
   "cell_type": "code",
   "execution_count": null,
   "metadata": {},
   "outputs": [],
   "source": []
  },
  {
   "cell_type": "code",
   "execution_count": null,
   "metadata": {
    "collapsed": true
   },
   "outputs": [],
   "source": []
  }
 ],
 "metadata": {
  "kernelspec": {
   "display_name": "Python 3",
   "language": "python",
   "name": "python3"
  },
  "language_info": {
   "codemirror_mode": {
    "name": "ipython",
    "version": 3
   },
   "file_extension": ".py",
   "mimetype": "text/x-python",
   "name": "python",
   "nbconvert_exporter": "python",
   "pygments_lexer": "ipython3",
   "version": "3.6.2"
  }
 },
 "nbformat": 4,
 "nbformat_minor": 2
}
